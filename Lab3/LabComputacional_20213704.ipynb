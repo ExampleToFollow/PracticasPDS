{
 "cells": [
  {
   "cell_type": "markdown",
   "metadata": {},
   "source": [
    "HINEILL DAVID CÉSPEDES ESPINOZA - 20213704"
   ]
  },
  {
   "cell_type": "markdown",
   "metadata": {},
   "source": [
    "PREGUNTA 1"
   ]
  },
  {
   "cell_type": "markdown",
   "metadata": {},
   "source": [
    "PREGUNTA 2"
   ]
  },
  {
   "cell_type": "markdown",
   "metadata": {},
   "source": [
    "PREGUNTA 3"
   ]
  },
  {
   "cell_type": "markdown",
   "metadata": {},
   "source": [
    "a) Determine las funciones de transferencia H(z) y G(z) asociadas a las respuestas al impulso h[n] y g[n],\n",
    "respectivamente. Halle la ROC de ambas funciones de transferencia. (1 pto)"
   ]
  },
  {
   "cell_type": "code",
   "execution_count": 2,
   "metadata": {},
   "outputs": [],
   "source": [
    "import numpy as np\n",
    "import matplotlib.pyplot as plt\n",
    "from matplotlib import cm\n",
    "import sympy as sym"
   ]
  },
  {
   "cell_type": "code",
   "execution_count": 79,
   "metadata": {},
   "outputs": [
    {
     "name": "stdout",
     "output_type": "stream",
     "text": [
      "------------------FUNCION DE TRANSFERENCIA  H(Z) --------------------\n"
     ]
    },
    {
     "data": {
      "text/latex": [
       "$\\displaystyle \\begin{cases} \\frac{1}{1 - \\frac{7}{10 z}} & \\text{for}\\: \\frac{1}{\\left|{z}\\right|} < \\frac{10}{7} \\\\\\sum_{k=0}^{\\infty} 10^{- k} 7^{k} z^{- k} & \\text{otherwise} \\end{cases} + \\begin{cases} \\frac{1}{1 - \\frac{3}{10 z}} & \\text{for}\\: \\frac{1}{\\left|{z}\\right|} < \\frac{10}{3} \\\\\\sum_{k=0}^{\\infty} 10^{- k} 3^{k} z^{- k} & \\text{otherwise} \\end{cases} + 1$"
      ],
      "text/plain": [
       "Piecewise((1/(1 - 7/(10*z)), 1/Abs(z) < 10/7), (Sum(7**k/(10**k*z**k), (k, 0, oo)), True)) + Piecewise((1/(1 - 3/(10*z)), 1/Abs(z) < 10/3), (Sum(3**k/(10**k*z**k), (k, 0, oo)), True)) + 1"
      ]
     },
     "execution_count": 79,
     "metadata": {},
     "output_type": "execute_result"
    }
   ],
   "source": [
    "#Calculamos Hz\n",
    "z = sym.symbols('z')\n",
    "k = sym.symbols('k',integer=True)\n",
    "#Definimos suma\n",
    "H_z  =  sym.Sum(   (  sym.Rational(3,10) **k )*(z)**(-k) + (  sym.Rational(7,10) **k )*(z)**(-k) , (k,0,sym.oo)) +  1 #Sumamos 1 por la deltaDirac\n",
    "H_z_simplify = H_z.doit()\n",
    "print(f\"------------------FUNCION DE TRANSFERENCIA  H(Z) --------------------\")\n",
    "H_z_simplify\n",
    "#Luego ploteamos"
   ]
  },
  {
   "cell_type": "code",
   "execution_count": 80,
   "metadata": {},
   "outputs": [],
   "source": [
    "#Vemos las ROC \n",
    "x = np.array([1,1])\n",
    "\n",
    "rz = np.linspace(-3,3,100)\n",
    "iz = np.linspace(-3,3,100)\n",
    "\n",
    "rr, ii = np.meshgrid(rz,iz)\n",
    "zz = rr+1j*ii\n",
    "\n"
   ]
  },
  {
   "cell_type": "code",
   "execution_count": 78,
   "metadata": {},
   "outputs": [
    {
     "name": "stdout",
     "output_type": "stream",
     "text": [
      "------------------FUNCION DE TRANSFERENCIA  G(Z) --------------------\n"
     ]
    },
    {
     "data": {
      "text/latex": [
       "$\\displaystyle \\begin{cases} \\frac{9}{10 z \\left(1 - \\frac{9}{10 z}\\right)^{2}} & \\text{for}\\: \\frac{1}{\\left|{z}\\right|} < \\frac{10}{9} \\\\\\sum_{k=0}^{\\infty} 10^{- k} 9^{k} k z^{- k} & \\text{otherwise} \\end{cases} + \\begin{cases} \\frac{1}{1 - \\frac{6}{5 z}} & \\text{for}\\: \\frac{1}{\\left|{z}\\right|} < \\frac{5}{6} \\\\\\sum_{k=0}^{\\infty} \\left(\\frac{6}{5}\\right)^{k} z^{- k} & \\text{otherwise} \\end{cases} + \\begin{cases} \\frac{1}{1 + \\frac{6}{5 z}} & \\text{for}\\: \\frac{1}{\\left|{z}\\right|} < \\frac{5}{6} \\\\\\sum_{k=0}^{\\infty} \\left(- \\frac{6}{5}\\right)^{k} z^{- k} & \\text{otherwise} \\end{cases}$"
      ],
      "text/plain": [
       "Piecewise((9/(10*z*(1 - 9/(10*z))**2), 1/Abs(z) < 10/9), (Sum(9**k*k/(10**k*z**k), (k, 0, oo)), True)) + Piecewise((1/(1 - 6/(5*z)), 1/Abs(z) < 5/6), (Sum((6/5)**k/z**k, (k, 0, oo)), True)) + Piecewise((1/(1 + 6/(5*z)), 1/Abs(z) < 5/6), (Sum((-6/5)**k/z**k, (k, 0, oo)), True))"
      ]
     },
     "execution_count": 78,
     "metadata": {},
     "output_type": "execute_result"
    }
   ],
   "source": [
    "#Calculamos Gz \n",
    "z = sym.symbols('z')\n",
    "k = sym.symbols('k',integer=True)\n",
    "#Definimos suma\n",
    "G_z  =  sym.Sum(   (  1 + (-1)**k )*(sym.Rational(12,10) **k)*(z)**(-k) + k*(  sym.Rational(9,10) **k )*(z)**(-k) , (k,0,sym.oo)) #Sumamos 1 por la deltaDirac\n",
    "G_z = G_z.doit()\n",
    "print(f\"------------------FUNCION DE TRANSFERENCIA  G(Z) --------------------\")\n",
    "G_z"
   ]
  }
 ],
 "metadata": {
  "kernelspec": {
   "display_name": "Python 3",
   "language": "python",
   "name": "python3"
  },
  "language_info": {
   "codemirror_mode": {
    "name": "ipython",
    "version": 3
   },
   "file_extension": ".py",
   "mimetype": "text/x-python",
   "name": "python",
   "nbconvert_exporter": "python",
   "pygments_lexer": "ipython3",
   "version": "3.11.9"
  }
 },
 "nbformat": 4,
 "nbformat_minor": 2
}
