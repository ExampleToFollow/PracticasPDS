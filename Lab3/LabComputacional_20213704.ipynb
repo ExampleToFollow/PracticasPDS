{
 "cells": [
  {
   "cell_type": "markdown",
   "metadata": {},
   "source": [
    "HINEILL DAVID CÉSPEDES ESPINOZA - 20213704"
   ]
  },
  {
   "cell_type": "markdown",
   "metadata": {},
   "source": [
    "PREGUNTA 1"
   ]
  },
  {
   "cell_type": "markdown",
   "metadata": {},
   "source": [
    "PREGUNTA 2"
   ]
  },
  {
   "cell_type": "markdown",
   "metadata": {},
   "source": [
    "PREGUNTA 3"
   ]
  },
  {
   "cell_type": "markdown",
   "metadata": {},
   "source": [
    "a) Determine las funciones de transferencia H(z) y G(z) asociadas a las respuestas al impulso h[n] y g[n],\n",
    "respectivamente. Halle la ROC de ambas funciones de transferencia. (1 pto)"
   ]
  },
  {
   "cell_type": "code",
   "execution_count": 90,
   "metadata": {},
   "outputs": [],
   "source": [
    "import numpy as np\n",
    "import matplotlib.pyplot as plt\n",
    "from matplotlib import cm\n",
    "import sympy as sym"
   ]
  },
  {
   "cell_type": "code",
   "execution_count": 108,
   "metadata": {},
   "outputs": [
    {
     "name": "stdout",
     "output_type": "stream",
     "text": [
      "------------------FUNCION DE TRANSFERENCIA  H(Z) --------------------\n"
     ]
    },
    {
     "data": {
      "text/latex": [
       "$\\displaystyle \\begin{cases} \\frac{1}{1 - \\frac{7}{10 z}} & \\text{for}\\: \\frac{1}{\\left|{z}\\right|} < \\frac{10}{7} \\\\\\sum_{k=0}^{\\infty} 10^{- k} 7^{k} z^{- k} & \\text{otherwise} \\end{cases} + \\begin{cases} \\frac{1}{1 - \\frac{3}{10 z}} & \\text{for}\\: \\frac{1}{\\left|{z}\\right|} < \\frac{10}{3} \\\\\\sum_{k=0}^{\\infty} 10^{- k} 3^{k} z^{- k} & \\text{otherwise} \\end{cases} + 1$"
      ],
      "text/plain": [
       "Piecewise((1/(1 - 7/(10*z)), 1/Abs(z) < 10/7), (Sum(7**k/(10**k*z**k), (k, 0, oo)), True)) + Piecewise((1/(1 - 3/(10*z)), 1/Abs(z) < 10/3), (Sum(3**k/(10**k*z**k), (k, 0, oo)), True)) + 1"
      ]
     },
     "execution_count": 108,
     "metadata": {},
     "output_type": "execute_result"
    }
   ],
   "source": [
    "#Calculamos Hz\n",
    "z = sym.symbols('z')\n",
    "k = sym.symbols('k',integer=True)\n",
    "#Definimos suma\n",
    "H_z  =  sym.Sum(   (  sym.Rational(3,10) **k )*(z)**(-k) + (  sym.Rational(7,10) **k )*(z)**(-k) , (k,0,sym.oo)) +  1 #Sumamos 1 por la deltaDirac\n",
    "Hz = H_z.doit()\n",
    "print(f\"------------------FUNCION DE TRANSFERENCIA  H(Z) --------------------\")\n",
    "Hz\n",
    "#Luego ploteamos"
   ]
  },
  {
   "cell_type": "code",
   "execution_count": 119,
   "metadata": {},
   "outputs": [
    {
     "data": {
      "text/latex": [
       "$\\displaystyle \\frac{300 z^{2} - 200 z + 21}{100 z^{2} - 100 z + 21}$"
      ],
      "text/plain": [
       "(300*z**2 - 200*z + 21)/(100*z**2 - 100*z + 21)"
      ]
     },
     "execution_count": 119,
     "metadata": {},
     "output_type": "execute_result"
    }
   ],
   "source": [
    "H_Z_supreme = (Hz.args[1]).args[0][0]  + (Hz.args[2]).args[0][0]  + (Hz.args[0])\n",
    "sym.simplify(H_Z_supreme)"
   ]
  },
  {
   "cell_type": "code",
   "execution_count": null,
   "metadata": {},
   "outputs": [],
   "source": [
    "\n",
    "\n",
    "rz = np.linspace(-3,3,100)\n",
    "iz = np.linspace(-3,3,100)\n",
    "\n",
    "rr, ii = np.meshgrid(rz,iz)\n",
    "zz = rr+1j*ii\n",
    "\n",
    "ROC1 = np.abs(zz) > np.abs(0.3)\n",
    "ROC2 = np.abs(zz) > np.abs(0.7)\n",
    "ROC = np.logical_and(ROC1, ROC2)\n",
    "H_Z =  1/(1-0.7 * (zz**-1)) + 1/(1-0.3 * (zz**-1)) + 1 #Escribimos una expresión\n",
    "H_Z[~ROC] = np.NaN\n",
    "\n",
    "#Ploteamos\n",
    "fig = plt.figure(figsize=[12,4])\n",
    "(ax1,ax2) = fig.subplots(1,2)\n",
    "im = ax1.pcolormesh(rz,iz,np.abs(H_Z),cmap=cm.jet,shading='auto')\n",
    "ax1.set_xlabel('$\\mathrm{Re}\\{z\\}$')\n",
    "ax1.set_ylabel('$\\mathrm{Im}\\{z\\}$')\n",
    "ax1.set_title('$|X(z)|$')\n",
    "ax1.set_aspect(1)\n",
    "ax1.grid('on',linestyle='--')\n",
    "im.set_clim(0,10)\n",
    "fig.colorbar(im,ax=ax1)\n",
    "\n",
    "circ = plt.Circle((0, 0), radius=1, edgecolor='k', facecolor='None')\n",
    "ax1.add_artist(circ)\n",
    "circ = plt.Circle((0, 0), radius=0.3, edgecolor='k', facecolor='None')\n",
    "ax1.add_artist(circ)\n",
    "circ = plt.Circle((0, 0), radius=0.7, edgecolor='k', facecolor='None')\n",
    "ax1.add_artist(circ)\n",
    "im = ax2.pcolormesh(rz,iz,np.angle(H_Z),cmap=cm.coolwarm,shading='auto')\n",
    "ax2.set_xlabel('$\\mathrm{Re}\\{z\\}$')\n",
    "ax2.set_ylabel('$\\mathrm{Im}\\{z\\}$')\n",
    "ax2.set_title('$\\\\angle X(z)$')\n",
    "ax2.set_aspect(1)\n",
    "ax2.grid('on',linestyle='--')\n",
    "im.set_clim(-np.pi,np.pi)\n",
    "fig.colorbar(im,ax=ax2)\n",
    "\n",
    "circ = plt.Circle((0, 0), radius=1, edgecolor='k', facecolor='None')\n",
    "ax2.add_artist(circ)"
   ]
  },
  {
   "cell_type": "code",
   "execution_count": 101,
   "metadata": {},
   "outputs": [
    {
     "name": "stdout",
     "output_type": "stream",
     "text": [
      "------------------FUNCION DE TRANSFERENCIA  G(Z) --------------------\n"
     ]
    }
   ],
   "source": [
    "#Calculamos Gz \n",
    "z = sym.symbols('z')\n",
    "k = sym.symbols('k',integer=True)\n",
    "#Definimos suma\n",
    "G_z  =  sym.Sum(   (  1 + (-1)**k )*(sym.Rational(12,10) **k)*(z)**(-k) + k*(  sym.Rational(9,10) **k )*(z)**(-k) , (k,0,sym.oo)) #Sumamos 1 por la deltaDirac\n",
    "G_z = G_z.doit()\n",
    "print(f\"------------------FUNCION DE TRANSFERENCIA  G(Z) --------------------\")\n"
   ]
  },
  {
   "cell_type": "code",
   "execution_count": null,
   "metadata": {},
   "outputs": [],
   "source": [
    "#ANEXO DE FUNCIONES\n"
   ]
  },
  {
   "cell_type": "markdown",
   "metadata": {},
   "source": [
    "b) Utilizando la funci´on roots de Matlab o la funci´on roots de la librer´ıa numpy en Python, obtenga\n",
    "los polos y ceros de H(z) y G(z) y graf´ıquelos en el plano z. A partir de los polos, ceros y ROCs,\n",
    "determine si los sistemas son estables. (1 pto)"
   ]
  },
  {
   "cell_type": "code",
   "execution_count": 100,
   "metadata": {},
   "outputs": [
    {
     "ename": "ValueError",
     "evalue": "Input must be a rank-1 array.",
     "output_type": "error",
     "traceback": [
      "\u001b[1;31m---------------------------------------------------------------------------\u001b[0m",
      "\u001b[1;31mValueError\u001b[0m                                Traceback (most recent call last)",
      "Cell \u001b[1;32mIn[100], line 2\u001b[0m\n\u001b[0;32m      1\u001b[0m \u001b[38;5;66;03m#PARA H_Z\u001b[39;00m\n\u001b[1;32m----> 2\u001b[0m ola \u001b[38;5;241m=\u001b[39m \u001b[43mnp\u001b[49m\u001b[38;5;241;43m.\u001b[39;49m\u001b[43mroots\u001b[49m\u001b[43m(\u001b[49m\u001b[43mH_Z\u001b[49m\u001b[43m)\u001b[49m \n\u001b[0;32m      3\u001b[0m \u001b[38;5;28mprint\u001b[39m(ola)\n",
      "File \u001b[1;32m<__array_function__ internals>:200\u001b[0m, in \u001b[0;36mroots\u001b[1;34m(*args, **kwargs)\u001b[0m\n",
      "File \u001b[1;32m~\\AppData\\Local\\Packages\\PythonSoftwareFoundation.Python.3.11_qbz5n2kfra8p0\\LocalCache\\local-packages\\Python311\\site-packages\\numpy\\lib\\polynomial.py:230\u001b[0m, in \u001b[0;36mroots\u001b[1;34m(p)\u001b[0m\n\u001b[0;32m    228\u001b[0m p \u001b[38;5;241m=\u001b[39m atleast_1d(p)\n\u001b[0;32m    229\u001b[0m \u001b[38;5;28;01mif\u001b[39;00m p\u001b[38;5;241m.\u001b[39mndim \u001b[38;5;241m!=\u001b[39m \u001b[38;5;241m1\u001b[39m:\n\u001b[1;32m--> 230\u001b[0m     \u001b[38;5;28;01mraise\u001b[39;00m \u001b[38;5;167;01mValueError\u001b[39;00m(\u001b[38;5;124m\"\u001b[39m\u001b[38;5;124mInput must be a rank-1 array.\u001b[39m\u001b[38;5;124m\"\u001b[39m)\n\u001b[0;32m    232\u001b[0m \u001b[38;5;66;03m# find non-zero array entries\u001b[39;00m\n\u001b[0;32m    233\u001b[0m non_zero \u001b[38;5;241m=\u001b[39m NX\u001b[38;5;241m.\u001b[39mnonzero(NX\u001b[38;5;241m.\u001b[39mravel(p))[\u001b[38;5;241m0\u001b[39m]\n",
      "\u001b[1;31mValueError\u001b[0m: Input must be a rank-1 array."
     ]
    }
   ],
   "source": [
    "#PARA H_Z\n",
    "ola = np.roots(H_Z) \n"
   ]
  }
 ],
 "metadata": {
  "kernelspec": {
   "display_name": "Python 3",
   "language": "python",
   "name": "python3"
  },
  "language_info": {
   "codemirror_mode": {
    "name": "ipython",
    "version": 3
   },
   "file_extension": ".py",
   "mimetype": "text/x-python",
   "name": "python",
   "nbconvert_exporter": "python",
   "pygments_lexer": "ipython3",
   "version": "3.11.9"
  }
 },
 "nbformat": 4,
 "nbformat_minor": 2
}
