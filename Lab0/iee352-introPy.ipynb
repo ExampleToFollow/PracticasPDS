{
 "cells": [
  {
   "cell_type": "markdown",
   "id": "fca58b30-4045-41fc-b68d-2780e6b8f6b2",
   "metadata": {},
   "source": [
    "# Tutorial Python\n",
    "\n",
    "* Seleccionar \"Markdown\" para incluir comentarios\n",
    "* Entre otros, revisar https://www.markdownguide.org/cheat-sheet/"
   ]
  },
  {
   "cell_type": "markdown",
   "id": "0beeba58-319f-4c00-b932-ca56284f1aa2",
   "metadata": {},
   "source": [
    "## Variables"
   ]
  },
  {
   "cell_type": "code",
   "execution_count": 11,
   "id": "3108369f-e31e-4ab0-a627-9e67dc2899d8",
   "metadata": {},
   "outputs": [],
   "source": [
    "# Variables / objetos\n",
    "\n",
    "import numpy as np\n",
    "\n",
    "s = \"Hello World!\"    # string\n",
    "f = 10.0              # float\n",
    "i = 314               # integer\n",
    "L = [1.0, 3.0]        # list\n",
    "print(s)\n",
    "A = np.array(L)       # array (numpy)"
   ]
  },
  {
   "cell_type": "markdown",
   "id": "895401bd-49d7-42e3-9238-909887bd37a7",
   "metadata": {},
   "source": [
    "#### Replicar los siguientes pasos en ipython (pip install ipython)\n",
    "\n",
    "* **string**\n",
    "  * Esribir \"s.\"\n",
    "  * Presionar \"tab\"\n",
    "  * Que significa la lista que aparece\n",
    "  * Ejecutar s.split(), s.upper()\n",
    "\n",
    "* **float**\n",
    "  * Esribir \"f.\" y presionar \"tab\"\n",
    "  * Ejecutar alguna de rutinas listadas\n",
    "  \n",
    "* **Otros**\n",
    "  * Repetir los pasos anteriores para **int**, **list** y **array**\n",
    "  \n",
    "Listar sus resultdos en la subsiguiente \"cell\""
   ]
  },
  {
   "cell_type": "code",
   "execution_count": null,
   "id": "c098a608-31ed-420b-866d-43dcbb4f77c4",
   "metadata": {},
   "outputs": [],
   "source": []
  },
  {
   "cell_type": "markdown",
   "id": "7390681c-6786-441a-9380-d18afe5d86b3",
   "metadata": {},
   "source": [
    "## Variables Booleanas"
   ]
  },
  {
   "cell_type": "code",
   "execution_count": null,
   "id": "b9ba5bec-e443-40a8-93a9-1e356f160ac6",
   "metadata": {},
   "outputs": [],
   "source": [
    "T = True\n",
    "F = False\n",
    "print(type(T))"
   ]
  },
  {
   "cell_type": "code",
   "execution_count": 12,
   "id": "1ef73b0c-7636-4d0e-8ede-ad6bc0d4b150",
   "metadata": {},
   "outputs": [
    {
     "name": "stdout",
     "output_type": "stream",
     "text": [
      "Q1=True, Q2=False\n"
     ]
    }
   ],
   "source": [
    "Q1 = (i == int(100*np.pi))\n",
    "Q2 = (f > float(i))\n",
    "\n",
    "print(\"Q1={}, Q2={}\".format(Q1, Q2))\n"
   ]
  },
  {
   "cell_type": "markdown",
   "id": "01ab98f3-45a4-440b-9632-24eae631605e",
   "metadata": {},
   "source": [
    "* Por que Q1 es \"True\"?"
   ]
  },
  {
   "cell_type": "markdown",
   "id": "81f58da9-bccb-4e5e-b47c-1c8cb0705608",
   "metadata": {},
   "source": [
    "## Listas"
   ]
  },
  {
   "cell_type": "code",
   "execution_count": 15,
   "id": "894e0eb3-5adf-4d34-911c-94cbcb9203aa",
   "metadata": {},
   "outputs": [
    {
     "name": "stdout",
     "output_type": "stream",
     "text": [
      "True\n",
      "4\n"
     ]
    }
   ],
   "source": [
    "# lista vacia\n",
    "l = []\n",
    "\n",
    "l.append(\"Hello\")\n",
    "l.append(\"World!\")\n",
    "l.append(314)\n",
    "l.append(np.array([1,2]))\n",
    "\n",
    "print(314 in l)\n",
    "print(len(l))"
   ]
  },
  {
   "cell_type": "markdown",
   "id": "9a84e43a-f848-4749-a000-f0b96780a086",
   "metadata": {},
   "source": [
    "* ``[]``: lista vacia.\n",
    "* ``l.append(data)``: agrega un nuevo elemento.\n",
    "* Listas anilladas (*nested lists*) estan permitidas .\n",
    "* ``len(l)``: numero de elementos.\n",
    "* ``l[k]``: accede al k-esimo elemento (se cuenta desde 0).\n",
    "* ``in``: encuentra un elemento en la lista."
   ]
  },
  {
   "cell_type": "markdown",
   "id": "0b62f72d-e868-4049-920e-d8a49ea4a42b",
   "metadata": {},
   "source": [
    "## Diccionarios"
   ]
  },
  {
   "cell_type": "code",
   "execution_count": 23,
   "id": "d7fc9bfe-1575-4165-9f7e-a8e8f12b80f2",
   "metadata": {},
   "outputs": [],
   "source": [
    "D = {'dia': 'claro ', 'noche ': 'obscuro '}\n",
    "D['tarde '] = 'dos luces ' # Nuevo\n",
    "                           # key -value\n",
    "    \n",
    "D['clima '] = ['soleado ','nublado ']\n",
    "\n",
    "# --------------------------------\n",
    "\n",
    "D.get('dia')  # 'claro '\n",
    "              # get('key ') es un metodo\n",
    "              # asociado con Dict."
   ]
  },
  {
   "cell_type": "markdown",
   "id": "8ca57837-075a-4373-adaa-5d131672c6ad",
   "metadata": {},
   "source": [
    "* Diccionarios como alternativa a \"switch\" (C/C++)"
   ]
  },
  {
   "cell_type": "code",
   "execution_count": 29,
   "id": "5cc47de9-ef31-40f0-8ae5-ad126d423212",
   "metadata": {},
   "outputs": [
    {
     "name": "stdout",
     "output_type": "stream",
     "text": [
      "C('Ma'): 2\n",
      "C('Tu'): -1\n"
     ]
    }
   ],
   "source": [
    "switcher = {'Lu':1, 'Ma':2, 'Mi':3, 'Ju':4, 'Vi':5, 'Sa':6, 'Do':7}\n",
    "C = lambda x : switcher.get(x, -1)\n",
    "\n",
    "print('C(\\'Ma\\'): {}'.format(C('Ma'))) # 2\n",
    "print('C(\\'Tu\\'): {}'.format(C('Tu'))) # -1\n",
    " \n",
    " "
   ]
  },
  {
   "cell_type": "markdown",
   "id": "81c058a8-ee0a-4198-acc6-1c36d538b3d1",
   "metadata": {},
   "source": [
    "## Estructuras caracteristicas"
   ]
  },
  {
   "cell_type": "code",
   "execution_count": 1,
   "id": "0baaf03d-f8d7-433f-9ae5-83485c8e1426",
   "metadata": {},
   "outputs": [
    {
     "name": "stdout",
     "output_type": "stream",
     "text": [
      "IMPORTANCIA \n",
      "de\n",
      "ESPACIOS \n",
      "en\n",
      "BLANCO \n"
     ]
    }
   ],
   "source": [
    "#\n",
    "lista = ['importancia ','de','espacios ','en','blanco ']\n",
    " \n",
    "for item in lista:\n",
    "  if len(item) >=4:\n",
    "     print(item.upper ())\n",
    "  else:\n",
    "     print(item.lower ())\n"
   ]
  },
  {
   "cell_type": "markdown",
   "id": "4329ddb1-8359-4757-a917-b5a8e2885d63",
   "metadata": {},
   "source": [
    "### Asignaciones simulataneas"
   ]
  },
  {
   "cell_type": "code",
   "execution_count": 20,
   "id": "0063ed04-dbcc-4d1e-94a9-a3d9bf79ee65",
   "metadata": {},
   "outputs": [
    {
     "name": "stdout",
     "output_type": "stream",
     "text": [
      "x = 1, y = 1\n",
      "x = 1, y = 2\n"
     ]
    }
   ],
   "source": [
    "x = 0\n",
    "y = 1\n",
    "\n",
    "# --- (1)\n",
    "\n",
    "x, y = y, (x+y)\n",
    "\n",
    "print('x = {}, y = {}'.format(x,y)) \n",
    "\n",
    "# --- (2)\n",
    "\n",
    "x = y\n",
    "y = (x+y)\n",
    "\n",
    "print('x = {}, y = {}'.format(x,y)) \n",
    "\n",
    "# Explique por que la dierencia de los resultados de (1) y (2)"
   ]
  },
  {
   "cell_type": "markdown",
   "id": "c8c360ab-4003-43f6-80a7-7e67f17ad83e",
   "metadata": {},
   "source": [
    " #### Escriba su respuesta\n",
    " \n",
    " "
   ]
  },
  {
   "cell_type": "code",
   "execution_count": 22,
   "id": "4d0ed9e7-24d9-4262-ac2e-8cbe16cc9a2c",
   "metadata": {},
   "outputs": [
    {
     "name": "stdout",
     "output_type": "stream",
     "text": [
      "[1, 1, 2, 3, 5, 8, 13, 21, 34, 55, 89, 144]\n"
     ]
    }
   ],
   "source": [
    "# Fibonacci\n",
    "\n",
    "fib = [1, 1]\n",
    "\n",
    "while fib[-1] < 100:\n",
    "    k = len(fib)\n",
    "    fib.append(fib[k-1]+fib[k-2])\n",
    "\n",
    "print(fib)"
   ]
  },
  {
   "cell_type": "markdown",
   "id": "2b3d05eb-639b-45fd-9668-87195f9e92fb",
   "metadata": {},
   "source": [
    "#### Genere la secuencia de Fibonacci de modo alternativo"
   ]
  },
  {
   "cell_type": "code",
   "execution_count": null,
   "id": "7a9cca97-43e5-4379-8253-b7fde6ad66fe",
   "metadata": {},
   "outputs": [],
   "source": []
  },
  {
   "cell_type": "markdown",
   "id": "e02e2ead-1c5c-4b2c-bd84-5d4e641e0f85",
   "metadata": {},
   "source": [
    "## Funciones"
   ]
  },
  {
   "cell_type": "code",
   "execution_count": 33,
   "id": "a5fbdf7f-197d-4164-8cb3-2a1e0c4cdfb4",
   "metadata": {},
   "outputs": [
    {
     "name": "stdout",
     "output_type": "stream",
     "text": [
      "[1, 1, 2, 3, 5, 8, 13, 21, 34, 55]\n"
     ]
    }
   ],
   "source": [
    "# Notar el argumento por defecto\n",
    "def fibFun(L=10):\n",
    "    \n",
    "    if L>2:\n",
    "       fib = [1, 1]\n",
    "       for k in range(2,L):\n",
    "           fib.append(fib[k-1]+fib[k-2]) \n",
    "    \n",
    "    return fib\n",
    "\n",
    "print(fibFun())\n",
    "\n",
    "\n",
    "# Completar la funcion para que arroje la respuesta correcta si L<1, L=1, L=2"
   ]
  },
  {
   "cell_type": "code",
   "execution_count": null,
   "id": "5966e3d2-972c-4dcf-8d4b-853e8c2d3c53",
   "metadata": {},
   "outputs": [],
   "source": []
  },
  {
   "cell_type": "markdown",
   "id": "89333158-5d54-4e65-bd04-dc75bdbe6d8c",
   "metadata": {},
   "source": [
    "## Classes"
   ]
  },
  {
   "cell_type": "code",
   "execution_count": 46,
   "id": "956b29e2-10fa-4fa3-b818-7fe44678a4d8",
   "metadata": {},
   "outputs": [
    {
     "name": "stdout",
     "output_type": "stream",
     "text": [
      "[]\n",
      "[1, 1, 2, 3, 5, 8]\n",
      "[1, 1, 2, 3, 5]\n"
     ]
    }
   ],
   "source": [
    "class iee352:\n",
    "    r\"\"\"\"Ejemplo de 'clase' simple    \n",
    "    \"\"\"\n",
    "    \n",
    "    def __init__(self, sim=None, plotFlag=False, L=-1):\n",
    "\n",
    "        self.sim      = sim           # simulacion\n",
    "        self.flagPlot = plotFlag      # 'bool' plot\n",
    "        self.L        = L\n",
    "\n",
    "    def fib(self, L=None):\n",
    "    \n",
    "      if L is None:\n",
    "         L = self.L   \n",
    "      if L > 2:\n",
    "        fib = [1, 1]\n",
    "        for k in range(2,L):\n",
    "            fib.append(fib[k-1]+fib[k-2]) \n",
    "      else:\n",
    "         fib = []\n",
    "    \n",
    "      return fib\n",
    "\n",
    "    \n",
    "ej1 = iee352()\n",
    "print(ej1.fib())\n",
    "\n",
    "ej1 = iee352()\n",
    "print(ej1.fib(L=6))\n",
    "\n",
    "ej2 = iee352(L=5)\n",
    "print(ej2.fib())\n"
   ]
  },
  {
   "cell_type": "markdown",
   "id": "739b82da-ce79-4110-9bdf-d2bc0eb0a5ff",
   "metadata": {},
   "source": [
    "* Explique los resultados anteriores\n",
    "* Modifique iee352.fib para que simpre de respuestas consistentes"
   ]
  },
  {
   "cell_type": "markdown",
   "id": "bc6f7987-b4fe-4d6e-b753-7fd1a24398e2",
   "metadata": {},
   "source": [
    "# ===================================="
   ]
  },
  {
   "cell_type": "code",
   "execution_count": 1,
   "id": "b9a22fd9-d93d-4f29-afcf-143a4ae29051",
   "metadata": {},
   "outputs": [],
   "source": [
    "import numpy as np\n",
    "import scipy as sc\n",
    "from scipy.fft import fft, rfft, fftshift\n",
    "import matplotlib.pylab as plt\n",
    "\n",
    "v = np.random.randn(10,1)\n",
    "I = np.ones(shape=(v.shape[0],v.shape[0]), like=v)"
   ]
  },
  {
   "cell_type": "code",
   "execution_count": 50,
   "id": "d2ade6e8-7341-4f19-bbe1-20b38906ac84",
   "metadata": {},
   "outputs": [
    {
     "data": {
      "text/plain": [
       "array([[1., 1., 1., 1., 1., 1., 1., 1., 1., 1.],\n",
       "       [1., 1., 1., 1., 1., 1., 1., 1., 1., 1.],\n",
       "       [1., 1., 1., 1., 1., 1., 1., 1., 1., 1.],\n",
       "       [1., 1., 1., 1., 1., 1., 1., 1., 1., 1.],\n",
       "       [1., 1., 1., 1., 1., 1., 1., 1., 1., 1.],\n",
       "       [1., 1., 1., 1., 1., 1., 1., 1., 1., 1.],\n",
       "       [1., 1., 1., 1., 1., 1., 1., 1., 1., 1.],\n",
       "       [1., 1., 1., 1., 1., 1., 1., 1., 1., 1.],\n",
       "       [1., 1., 1., 1., 1., 1., 1., 1., 1., 1.],\n",
       "       [1., 1., 1., 1., 1., 1., 1., 1., 1., 1.]])"
      ]
     },
     "execution_count": 50,
     "metadata": {},
     "output_type": "execute_result"
    }
   ],
   "source": []
  },
  {
   "cell_type": "code",
   "execution_count": 51,
   "id": "eb76e218-0ab8-4f21-8c29-c7626f354383",
   "metadata": {},
   "outputs": [
    {
     "data": {
      "text/plain": [
       "<StemContainer object of 3 artists>"
      ]
     },
     "execution_count": 51,
     "metadata": {},
     "output_type": "execute_result"
    },
    {
     "data": {
      "image/png": "[encoded data removed]",
      "text/plain": [
       "<Figure size 640x480 with 1 Axes>"
      ]
     },
     "metadata": {},
     "output_type": "display_data"
    }
   ],
   "source": [
    "N = 1000\n",
    "n = np.arange(0, N, dtype=float)\n",
    "xt = np.cos(2*np.pi*10*(n/N))       # Simula data continua\n",
    "\n",
    "x1 = xt[2::7]                       # Equivalente a\n",
    "                                    # m = np.arange(0, N/7, dtype=float)+2\n",
    "                                    # np.cos(2*np.pi*(10/(N/7))*m)\n",
    "                                    # Notar que (i) fo = 10, (ii) fs = N/7 = 142.86\n",
    "plt.plot(xt)\n",
    "plt.stem(n[2::7],x1,'g', markerfmt='.')"
   ]
  },
  {
   "cell_type": "code",
   "execution_count": 55,
   "id": "3d8944cc-b098-49fe-981e-5ea471851d99",
   "metadata": {},
   "outputs": [
    {
     "data": {
      "text/plain": [
       "<StemContainer object of 3 artists>"
      ]
     },
     "execution_count": 55,
     "metadata": {},
     "output_type": "execute_result"
    },
    {
     "data": {
      "image/png": "[encoded data removed]",
      "text/plain": [
       "<Figure size 640x480 with 1 Axes>"
      ]
     },
     "metadata": {},
     "output_type": "display_data"
    }
   ],
   "source": [
    "fftX1 = (1./x1.size)*fft(x1)        # factor: Normalizacion.\n",
    "plt.stem(np.arange(0.,1.,1./float(x1.size)), np.abs(fftX1), 'g', markerfmt='.')"
   ]
  },
  {
   "cell_type": "markdown",
   "id": "a304d780-1da8-4d06-8620-faf72d871a1d",
   "metadata": {},
   "source": [
    "* Por que es recomendable utilizar ``stem`` y no ``plot`` para este caso?"
   ]
  },
  {
   "cell_type": "markdown",
   "id": "f5ec3329-4569-4204-a143-b7e565f0a4ef",
   "metadata": {},
   "source": [
    "Considere la señal continua\n",
    "\\begin{eqnarray*}\n",
    "\\mathbf{x}_c(t) & =  & a(t) \\cdot \\cos(2 \\pi \\cdot ( f_0 + f_{chirp}\\cdot t) \\cdot t) \\qquad (1)\n",
    "\\end{eqnarray*}\n",
    "donde $f_0 = 10$, $f_{chirp} = 0.5$ y $a(t) = \\frac{t}{10}$.\n"
   ]
  },
  {
   "cell_type": "markdown",
   "id": "7303e3c2-f116-4a95-9da2-ab025adcb39f",
   "metadata": {},
   "source": [
    "* Escriba una funcion que genere (1)\n",
    "* Grafique dicha señal asi como su transformada de Fourier"
   ]
  },
  {
   "cell_type": "code",
   "execution_count": null,
   "id": "473df57a-be88-4b69-bfd6-f5a30ce84c4b",
   "metadata": {},
   "outputs": [],
   "source": []
  }
 ],
 "metadata": {
  "kernelspec": {
   "display_name": "Python 3 (ipykernel)",
   "language": "python",
   "name": "python3"
  },
  "language_info": {
   "codemirror_mode": {
    "name": "ipython",
    "version": 3
   },
   "file_extension": ".py",
   "mimetype": "text/x-python",
   "name": "python",
   "nbconvert_exporter": "python",
   "pygments_lexer": "ipython3",
   "version": "3.11.-1"
  }
 },
 "nbformat": 4,
 "nbformat_minor": 5
}
