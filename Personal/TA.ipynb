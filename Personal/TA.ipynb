{
 "cells": [
  {
   "cell_type": "markdown",
   "metadata": {},
   "source": [
    "Hineill David Céspedes Espinoza - 20213704"
   ]
  },
  {
   "cell_type": "markdown",
   "metadata": {},
   "source": [
    "PREGUNTA 1: IDENTIFICACIÓN DE SISTEMAS"
   ]
  },
  {
   "cell_type": "markdown",
   "metadata": {},
   "source": [
    "En este problema vamos a aplicar las técnicas aprendidas en el curso para la identificación de\n",
    "algunos sistemas desconocidos. Por cada sistema desconocido van a ser proporcionadas secuencias\n",
    "de entrada x[n] y de salida y[n]."
   ]
  },
  {
   "cell_type": "markdown",
   "metadata": {},
   "source": [
    "1. Sistema lineal e invariante en el tiempo (LTI - Linear Time Invariant)"
   ]
  },
  {
   "cell_type": "markdown",
   "metadata": {},
   "source": [
    "Dado un sistema LTI con respuesta impulsiva h[n], la relación entre la entrada y la salida\n",
    "del sistema están dadas por\n",
    "y[n] = Xn\n",
    "k=−∞\n",
    "x[k]h[n − k] + w[n]\n",
    "donde w[n] es una señal de ruido blanco gaussiano con media cero y varianza desconocida.\n",
    "Utilizar un filtro FIR de longitud 10 (es decir con 10 coeficientes) para identificar el sistema"
   ]
  },
  {
   "cell_type": "code",
   "execution_count": null,
   "metadata": {},
   "outputs": [],
   "source": [
    "#Usamos el archivo LTI.csv\n",
    "#Cargamos el archvivo\n",
    "import numpy as np\n",
    "import matplotlib.pyplot as plt\n",
    "import pandas as pd\n",
    "import csv\n",
    "# 1. Cargar datos del archivo CSV\n",
    "#data = pd.read_csv(\"lti.csv\")\n",
    "datos  = ''\n",
    "with open('lti.csv', newline='') as f:\n",
    "    data =  csv.reader(f, delimiter=\" \")\n",
    "    datos=list(data)\n",
    "input_lti = datos[0]\n",
    "output_lti = datos[1]\n"
   ]
  },
  {
   "cell_type": "code",
   "execution_count": null,
   "metadata": {},
   "outputs": [],
   "source": []
  },
  {
   "cell_type": "markdown",
   "metadata": {},
   "source": [
    "PREGUNTA-2"
   ]
  },
  {
   "cell_type": "code",
   "execution_count": null,
   "metadata": {},
   "outputs": [],
   "source": []
  },
  {
   "cell_type": "markdown",
   "metadata": {},
   "source": [
    "PREGUNTA-3"
   ]
  }
 ],
 "metadata": {
  "kernelspec": {
   "display_name": "Python 3",
   "language": "python",
   "name": "python3"
  },
  "language_info": {
   "codemirror_mode": {
    "name": "ipython",
    "version": 3
   },
   "file_extension": ".py",
   "mimetype": "text/x-python",
   "name": "python",
   "nbconvert_exporter": "python",
   "pygments_lexer": "ipython3",
   "version": "3.11.9"
  }
 },
 "nbformat": 4,
 "nbformat_minor": 2
}
